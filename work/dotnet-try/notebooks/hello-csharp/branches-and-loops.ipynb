{
 "cells": [
  {
   "cell_type": "markdown",
   "metadata": {},
   "source": [
    "# Learn conditional logic with branch and loop statements\n",
    "\n",
    "*In this tutorial about branches and loops, you'll use Jupyter notebooks to learn C# interactively. You'll write C# code and see the results of compiling and running your code directly.*\n",
    "\n",
    "This tutorial contains a series of lessons that explore branching and looping constructs in C#. These lessons teach you the fundamentals of the C# language.\n",
    "\n",
    "## Make decisions using the if statement\n",
    "\n",
    "Run the following cell:"
   ]
  },
  {
   "cell_type": "code",
   "execution_count": 1,
   "metadata": {},
   "outputs": [],
   "source": [
    "int a = 5;\n",
    "int b = 6;\n",
    "if (a + b > 10)\n",
    "    Console.WriteLine(\"The answer is greater than 10.\");"
   ]
  },
  {
   "cell_type": "markdown",
   "metadata": {},
   "source": [
    "Modify the declaration of `b` so that the sum is less than 10: `int b = 3;`\n",
    "\n",
    "Run the cell again. Because the answer is less than 10, nothing is printed. The **condition** you're testing is false. You don't have any code to execute because you've only written one of the possible branches for an `if` statement: the true branch. Try again with `int b = 15`.\n",
    "\n",
    "> As you explore C# (or any programming language), you'll make mistakes when you write code. The **compiler** will find those errors and report them to you. When the output contains error messages, look closely at the example code, and the code in the interactive window to see what to fix. That exercise will help you learn the structure of C# code.\n",
    "\n",
    "This first sample shows the power of `if` and boolean types. A *boolean* is a variable that can have one of two values: `true` or `false`. C# defines a special type, `bool` for boolean variables. The `if` statement checks the value of a `bool`. When the value is `true`, the statement following the `if` executes. Otherwise, it is skipped.\n",
    "\n",
    "This process of checking conditions and executing statements based on those conditions is very powerful. Let's explore more.\n",
    "\n",
    "## Make if and else work together\n",
    "\n",
    "To execute different code in both the true and false branches, you create an `else` branch that executes when the condition is false. Try this:"
   ]
  },
  {
   "cell_type": "code",
   "execution_count": 2,
   "metadata": {},
   "outputs": [],
   "source": [
    "int a = 5;\n",
    "int b = 3;\n",
    "if (a + b > 10)\n",
    "    Console.WriteLine(\"The answer is greater than 10\");\n",
    "else\n",
    "    Console.WriteLine(\"The answer is not greater than 10\");"
   ]
  },
  {
   "cell_type": "markdown",
   "metadata": {},
   "source": [
    "The statement following the `else` keyword executes only when the condition being tested is `false`. Combining `if` and `else` with boolean conditions provides all the power you need.\n",
    "\n",
    "> The indentation under the `if` and `else` statements is for human readers. The C# language doesn't treat indentation or white space as significant. The statement following the `if` or `else` keyword will be executed based on the condition. All the samples in this tutorial follow a common practice to indent lines based on the control flow of statements.\n",
    "\n",
    "Because indentation is not significant, you need to use `{` and `}` to indicate when you want more than one statement to be part of the block\n",
    "that executes conditionally. C# programmers typically use those braces on all `if` and `else` clauses. The following example is the same as what you\n",
    "just created. Try it."
   ]
  },
  {
   "cell_type": "code",
   "execution_count": 3,
   "metadata": {},
   "outputs": [],
   "source": [
    "int a = 5;\n",
    "int b = 3;\n",
    "if (a + b > 10)\n",
    "{\n",
    "    Console.WriteLine(\"The answer is greater than 10\");\n",
    "}\n",
    "else\n",
    "{\n",
    "    Console.WriteLine(\"The answer is not greater than 10\");\n",
    "}"
   ]
  },
  {
   "cell_type": "markdown",
   "metadata": {},
   "source": [
    "> Through the rest of this tutorial, the code samples all include the braces, following accepted practices.\n",
    "\n",
    "You can test more complicated conditions:"
   ]
  },
  {
   "cell_type": "code",
   "execution_count": 4,
   "metadata": {},
   "outputs": [],
   "source": [
    "int a = 5;\n",
    "int b = 3;\n",
    "int c = 4;\n",
    "if ((a + b + c > 10) && (a == b))\n",
    "{\n",
    "    Console.WriteLine(\"The answer is greater than 10\");\n",
    "    Console.WriteLine(\"And the first number is equal to the second\");\n",
    "}\n",
    "else\n",
    "{\n",
    "    Console.WriteLine(\"The answer is not greater than 10\");\n",
    "    Console.WriteLine(\"Or the first number is not equal to the second\");\n",
    "}"
   ]
  },
  {
   "cell_type": "markdown",
   "metadata": {},
   "source": [
    "The `==` symbol tests for *equality*. Using `==` distinguishes the test for equality from assignment, which you saw in `a = 5`.\n",
    "\n",
    "The `&&` represents \"and\". It means both conditions must be true to execute the statement in the true branch.  These examples also show that you can have multiple\n",
    "statements in each conditional branch, provided you enclose them in `{` and `}`.\n",
    "    \n",
    "You can also use  `||` to represent \"or\":"
   ]
  },
  {
   "cell_type": "code",
   "execution_count": 6,
   "metadata": {},
   "outputs": [],
   "source": [
    "int a = 5;\n",
    "int b = 3;\n",
    "int c = 4;\n",
    "if ((a + b + c > 10) || (a == b))\n",
    "{\n",
    "    Console.WriteLine(\"The answer is greater than 10\");\n",
    "    Console.WriteLine(\"Or the first number is equal to the second\");\n",
    "}\n",
    "else\n",
    "{\n",
    "    Console.WriteLine(\"The answer is not greater than 10\");\n",
    "    Console.WriteLine(\"And the first number is not equal to the second\");\n",
    "}"
   ]
  },
  {
   "cell_type": "markdown",
   "metadata": {},
   "source": [
    "Modify the values of `a`, `b`, and `c` and switch between `&&` and `||` to explore. You'll gain more understanding of how the `&&` and `||` operators work.\n",
    "\n",
    "## Use loops to repeat operations\n",
    "\n",
    "Another important concept to create larger programs is **loops**. You'll\n",
    "use loops to repeat statements that you want executed more than once. Try\n",
    "this code:"
   ]
  },
  {
   "cell_type": "code",
   "execution_count": 7,
   "metadata": {},
   "outputs": [],
   "source": [
    "int counter = 0;\n",
    "while (counter < 10)\n",
    "{\n",
    "  Console.WriteLine($\"Hello World! The counter is {counter}\");\n",
    "  counter++;\n",
    "}"
   ]
  },
  {
   "cell_type": "markdown",
   "metadata": {},
   "source": [
    "The `while` statement checks a condition and executes the statement following the `while`. It will repeat checking the condition and executing those statements until the condition is false.\n",
    "\n",
    "There's one other new operator in this example. The `++` after the `counter` variable is the **increment** operator. It adds 1 to the value of counter, and stores that value in the counter variable.\n",
    "\n",
    "> Make sure that the `while` loop condition does switch to false as you execute the code. Otherwise, you create an **infinite loop** where your program never ends. Let's not demonstrate that, because the engine that runs your code will time out and you'll see no output from your program.\n",
    "\n",
    "The `while` loop tests the condition before executing the code following the `while`. The `do` ... `while` loop executes the code first, and then checks the condition. It looks like this:"
   ]
  },
  {
   "cell_type": "code",
   "execution_count": 8,
   "metadata": {},
   "outputs": [],
   "source": [
    "int counter = 0;\n",
    "do\n",
    "{\n",
    "  Console.WriteLine($\"Hello World! The counter is {counter}\");\n",
    "  counter++;\n",
    "} while (counter < 10);"
   ]
  },
  {
   "cell_type": "markdown",
   "metadata": {},
   "source": [
    "This `do` loop and the earlier `while` loop work the same.\n",
    "\n",
    "Let's move on to one last loop statement.\n",
    "\n",
    "## Work with the for loop\n",
    "\n",
    "Another common loop statement that you'll see in C# code is the `for` loop. Try this code in the interactive window:"
   ]
  },
  {
   "cell_type": "code",
   "execution_count": 9,
   "metadata": {},
   "outputs": [],
   "source": [
    "for(int counter = 0; counter < 10; counter++)\n",
    "{\n",
    "  Console.WriteLine($\"Hello World! The counter is {counter}\");\n",
    "}"
   ]
  },
  {
   "cell_type": "markdown",
   "metadata": {},
   "source": [
    "This does the same work as the `while` loop and the `do` loop you've already used. The `for` statement has three parts that control how it works.\n",
    "\n",
    "The first part is the **for initializer**: `int counter = 0;` declares that `counter` is the loop variable, and sets its initial value to `0`.\n",
    "\n",
    "The middle part is the **for condition**: `counter < 10` declares that this `for` loop continues to execute as long as the value of counter is less than 10.\n",
    "\n",
    "The final part is the **for iterator**: `counter++` specifies how to modify the loop variable after executing the block following the `for` statement. Here, it specifies that `counter` should be incremented by 1 each time the block executes.\n",
    "\n",
    "Experiment with these yourself. Try each of the following:\n",
    "\n",
    "- Change the initializer to start at a different value.\n",
    "- Change the condition to stop at a different value.\n",
    "\n",
    "When you're done, let's move on to write some code yourself to\n",
    "use what you've learned.\n",
    "\n",
    "## Created nested loops\n",
    "\n",
    "A `while`, `do` or `for` loop can be nested inside another loop to create a matrix using the combination of each item in the outer loop with each item in the inner loop. Let's do that to build a set of alphanumeric pairs to represent rows and columns.\n",
    "\n",
    "One `for` loop can generate the rows:"
   ]
  },
  {
   "cell_type": "code",
   "execution_count": 10,
   "metadata": {},
   "outputs": [],
   "source": [
    "for (int row = 1; row < 11; row++)\n",
    "{\n",
    "  Console.WriteLine($\"The row is {row}\");\n",
    "}"
   ]
  },
  {
   "cell_type": "markdown",
   "metadata": {},
   "source": [
    "Another loop can generate the columns:"
   ]
  },
  {
   "cell_type": "code",
   "execution_count": 11,
   "metadata": {},
   "outputs": [],
   "source": [
    "for (char column = 'a'; column < 'k'; column++)\n",
    "{\n",
    "  Console.WriteLine($\"The column is {column}\");\n",
    "}"
   ]
  },
  {
   "cell_type": "markdown",
   "metadata": {},
   "source": [
    "You can nest one loop inside the other to form pairs:"
   ]
  },
  {
   "cell_type": "code",
   "execution_count": 13,
   "metadata": {},
   "outputs": [],
   "source": [
    "for (int row = 1; row < 11; row++)\n",
    "{\n",
    "  for (char column = 'a'; column < 'k'; column++)\n",
    "  {\n",
    "    Console.Write($\"({row}, {column})  \");\n",
    "  }\n",
    "  Console.WriteLine();\n",
    "}"
   ]
  },
  {
   "cell_type": "markdown",
   "metadata": {},
   "source": [
    "You can see that the outer loop increments once for each full run of the\n",
    "inner loop. Reverse the row and column nesting, and see the changes for yourself.\n",
    "\n",
    "## Combine branches and loops\n",
    "\n",
    "Now that you've seen the `if` statement and the looping\n",
    "constructs in the C# language, see if you can write C# code to\n",
    "find the sum of all integers 1 through 20 that are divisible\n",
    "by 3.  Here are a few hints:\n",
    "\n",
    "- The `%` operator gives you the remainder of a division operation.\n",
    "- The `if` statement gives you the condition to see if a number should be part of the sum.\n",
    "- The `for` loop can help you repeat a series of steps for all the numbers 1 through 20.\n",
    "\n",
    "Try it yourself. Then check how you did. As a hint, you should get 63 for an answer."
   ]
  },
  {
   "cell_type": "code",
   "execution_count": null,
   "metadata": {},
   "outputs": [],
   "source": []
  },
  {
   "cell_type": "markdown",
   "metadata": {},
   "source": [
    "When you're ready, you can explore the [list collection](list-collection.ipynb)."
   ]
  }
 ],
 "metadata": {
  "kernelspec": {
   "display_name": ".NET (C#)",
   "language": "C#",
   "name": ".net-csharp"
  },
  "language_info": {
   "file_extension": ".cs",
   "mimetype": "text/x-csharp",
   "name": "C#",
   "pygments_lexer": "csharp",
   "version": "8.0"
  }
 },
 "nbformat": 4,
 "nbformat_minor": 4
}
